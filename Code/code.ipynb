{
 "cells": [
  {
   "cell_type": "code",
   "execution_count": null,
   "metadata": {},
   "outputs": [],
   "source": [
    "def ChargingTime(interval, time, arr):\n",
    "    # Käydään läpi ennustearvot ja lasketaan 'time' pituinen liukuva keskiarvo\n",
    "    # Keskiarvot taulukkoon jossa sarakkeet 'aloitusaika', 'lopetusaika' ja 'keskiarvo'\n",
    "    # Keskiarvoista valitaan pienin\n",
    "    # Return pienimmän keskiarvon aloitusaika\n",
    "    avgs = []\n",
    "\n",
    "    # Calculates averages\n",
    "    for i in range(len(arr) - time + 1):\n",
    "        window = arr[i : i + time]\n",
    "        window_avg = round(sum(window) / time, 3)\n",
    "        avgs.append([arr[i], arr[i + time], window_avg])\n",
    "    \n",
    "    # Find min average and select the starting time to achieve that\n",
    "    charging_time = min(avgs[2])\n",
    "\n",
    "    return charging_time"
   ]
  },
  {
   "cell_type": "code",
   "execution_count": null,
   "metadata": {},
   "outputs": [],
   "source": []
  }
 ],
 "metadata": {
  "kernelspec": {
   "display_name": "Python 3.10.6 64-bit",
   "language": "python",
   "name": "python3"
  },
  "language_info": {
   "name": "python",
   "version": "3.10.6"
  },
  "orig_nbformat": 4,
  "vscode": {
   "interpreter": {
    "hash": "50d587d6d84bdb5e526d2b12836622e88213e4ce01f50c7eaf808c14161bb472"
   }
  }
 },
 "nbformat": 4,
 "nbformat_minor": 2
}
