{
 "cells": [
  {
   "cell_type": "code",
   "execution_count": 1,
   "metadata": {},
   "outputs": [],
   "source": [
    "import pandas as pd\n",
    "from matplotlib import pyplot as plt"
   ]
  },
  {
   "cell_type": "code",
   "execution_count": 2,
   "metadata": {},
   "outputs": [],
   "source": [
    "df_kulutus = pd.read_csv(\"../Data/Kulutusennuste_Tammikuu_2021.csv\")\n",
    "df_tuotanto = pd.read_csv(\"../Data/Sahkontuotantoennuste_Tammikuu_2021.csv\")"
   ]
  },
  {
   "cell_type": "code",
   "execution_count": 12,
   "metadata": {},
   "outputs": [],
   "source": [
    "def ChargingTime(interval, time, arr):\n",
    "    # Käydään läpi ennustearvot ja lasketaan 'time' pituinen liukuva keskiarvo\n",
    "    # Keskiarvot taulukkoon jossa sarakkeet 'aloitusaika', 'lopetusaika' ja 'keskiarvo'\n",
    "    # Keskiarvoista valitaan pienin\n",
    "    # Return pienimmän keskiarvon aloitusaika\n",
    "    avgs = []\n",
    "\n",
    "    # Calculates averages\n",
    "    for i in range(len(arr) - time + 1):\n",
    "        t1 = arr[i][0]\n",
    "        t2 = arr[i][1]\n",
    "\n",
    "        # Check if time difference is bigger than interval\n",
    "        if (pd.Timedelta(t2-t1).seconds / 60.0) > interval:\n",
    "            break\n",
    "        else:\n",
    "            window = arr[i : i + time]\n",
    "            sum = 0\n",
    "            for j in window:\n",
    "                sum = sum + j[2]\n",
    "\n",
    "            window_avg = round(sum / time, 3)\n",
    "            \n",
    "            if (len(arr) - 1) > i + time:\n",
    "                avgs.append([arr[i][0], arr[i + time][1], window_avg])\n",
    "\n",
    "    # Find min average and select the starting time to achieve that\n",
    "    min_avg = [float('inf'), \"\", \"\"]\n",
    "    for k in avgs:\n",
    "    \n",
    "        if min_avg[0] > k[2]:\n",
    "            min_avg[0] = k[2]\n",
    "            min_avg[1] = k[0]\n",
    "            min_avg[2] = k[1]\n",
    "\n",
    "    return min_avg"
   ]
  },
  {
   "cell_type": "code",
   "execution_count": null,
   "metadata": {},
   "outputs": [],
   "source": [
    "# Muutetaan arvot datetime:ksi\n",
    "df_kulutus[\"Alkuaika UTC+02:00\"] = pd.to_datetime(df_kulutus[\"Alkuaika UTC+02:00\"])\n",
    "df_kulutus[\"Lopetusaika UTC+02:00\"] = pd.to_datetime(df_kulutus[\"Lopetusaika UTC+02:00\"])\n",
    "\n",
    "# Nimetään aikaväli\n",
    "start_date = pd.to_datetime(\"2020-12-31 22:00:00\")\n",
    "end_date = pd.to_datetime(\"2021-01-01 05:00:00\")\n",
    "\n",
    "# Rajataan aikavälin mukaan\n",
    "mask = (df_kulutus['Alkuaika UTC+02:00'] > start_date) & (df_kulutus['Lopetusaika UTC+02:00'] <= end_date)\n",
    "df_kulutus_filt = df_kulutus.loc[mask]\n",
    "\n",
    "# Valitaan vain kolme saraketta\n",
    "df_kulutus_filt = df_kulutus_filt[['Alkuaika UTC+02:00', 'Lopetusaika UTC+02:00', 'Kulutusennuste - seuraava vuorokausi']]\n",
    "data = df_kulutus_filt.values.tolist()"
   ]
  },
  {
   "cell_type": "code",
   "execution_count": 14,
   "metadata": {},
   "outputs": [],
   "source": [
    "output = ChargingTime(120, 5, data)"
   ]
  },
  {
   "cell_type": "code",
   "execution_count": 18,
   "metadata": {},
   "outputs": [
    {
     "data": {
      "image/png": "[encoded data removed]",
      "text/plain": [
       "<Figure size 576x288 with 1 Axes>"
      ]
     },
     "metadata": {
      "needs_background": "light"
     },
     "output_type": "display_data"
    }
   ],
   "source": [
    "plt.rcParams[\"figure.figsize\"] = [8, 4]\n",
    "plt.rcParams[\"figure.autolayout\"] = True\n",
    "\n",
    "plt.plot(df_kulutus_filt[\"Alkuaika UTC+02:00\"], df_kulutus_filt[\"Kulutusennuste - seuraava vuorokausi\"])\n",
    "plt.scatter(output[1], output[0], c=\"red\")\n",
    "plt.scatter(output[2], output[0], c=\"red\")\n",
    "plt.show()"
   ]
  }
 ],
 "metadata": {
  "kernelspec": {
   "display_name": "Python 3.9.12 ('base')",
   "language": "python",
   "name": "python3"
  },
  "language_info": {
   "codemirror_mode": {
    "name": "ipython",
    "version": 3
   },
   "file_extension": ".py",
   "mimetype": "text/x-python",
   "name": "python",
   "nbconvert_exporter": "python",
   "pygments_lexer": "ipython3",
   "version": "3.9.12"
  },
  "orig_nbformat": 4,
  "vscode": {
   "interpreter": {
    "hash": "53aced4f49a191641bbb7e7d1a9fe6a7b0857e444186af8ebba1194bc7392189"
   }
  }
 },
 "nbformat": 4,
 "nbformat_minor": 2
}
