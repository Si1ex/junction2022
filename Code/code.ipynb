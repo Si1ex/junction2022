{
 "cells": [
  {
   "cell_type": "code",
   "execution_count": 1,
   "metadata": {},
   "outputs": [
    {
     "ename": "ModuleNotFoundError",
     "evalue": "No module named 'pandas'",
     "output_type": "error",
     "traceback": [
      "\u001b[1;31m---------------------------------------------------------------------------\u001b[0m",
      "\u001b[1;31mModuleNotFoundError\u001b[0m                       Traceback (most recent call last)",
      "\u001b[1;32m~\\AppData\\Local\\Temp/ipykernel_10932/189266918.py\u001b[0m in \u001b[0;36m<module>\u001b[1;34m\u001b[0m\n\u001b[1;32m----> 1\u001b[1;33m \u001b[1;32mimport\u001b[0m \u001b[0mpandas\u001b[0m \u001b[1;32mas\u001b[0m \u001b[0mpd\u001b[0m\u001b[1;33m\u001b[0m\u001b[1;33m\u001b[0m\u001b[0m\n\u001b[0m\u001b[0;32m      2\u001b[0m \u001b[1;32mfrom\u001b[0m \u001b[0mmatplotlib\u001b[0m \u001b[1;32mimport\u001b[0m \u001b[0mpyplot\u001b[0m \u001b[1;32mas\u001b[0m \u001b[0mplt\u001b[0m\u001b[1;33m\u001b[0m\u001b[1;33m\u001b[0m\u001b[0m\n\u001b[0;32m      3\u001b[0m \u001b[1;32mimport\u001b[0m \u001b[0mdatetime\u001b[0m\u001b[1;33m\u001b[0m\u001b[1;33m\u001b[0m\u001b[0m\n",
      "\u001b[1;31mModuleNotFoundError\u001b[0m: No module named 'pandas'"
     ]
    }
   ],
   "source": [
    "import pandas as pd\n",
    "from matplotlib import pyplot as plt\n",
    "import datetime"
   ]
  },
  {
   "cell_type": "code",
   "execution_count": 27,
   "metadata": {},
   "outputs": [],
   "source": [
    "df_kulutus = pd.read_csv(\"../Data/Kulutusennuste_Tammikuu_2021.csv\")\n",
    "df_tuotanto = pd.read_csv(\"../Data/Sahkontuotantoennuste_Tammikuu_2021.csv\")"
   ]
  },
  {
   "cell_type": "code",
   "execution_count": 65,
   "metadata": {},
   "outputs": [],
   "source": [
    "def ChargingTime(interval, time, arr):\n",
    "    # Käydään läpi ennustearvot ja lasketaan 'time' pituinen liukuva keskiarvo\n",
    "    # Keskiarvot taulukkoon jossa sarakkeet 'aloitusaika', 'lopetusaika' ja 'keskiarvo'\n",
    "    # Keskiarvoista valitaan pienin\n",
    "    # Return pienimmän keskiarvon aloitusaika\n",
    "    avgs = []\n",
    "\n",
    "    # Calculates averages\n",
    "    for i in range(len(arr) - time + 1):\n",
    "        t1 = arr[i][0]\n",
    "        t2 = arr[i][1]\n",
    "\n",
    "        if (pd.Timedelta(t2-t1).seconds / 60.0) > interval:\n",
    "            break\n",
    "        else:\n",
    "            window = arr[i : i + time]\n",
    "            \n",
    "            sum = 0\n",
    "            for j in window:\n",
    "                sum = sum + j[2]\n",
    "\n",
    "            window_avg = round(sum / time, 3)\n",
    "            \n",
    "            if (len(arr) - 1) > i + time:\n",
    "                avgs.append([arr[i], arr[i + time], window_avg])\n",
    "    \n",
    "    # Find min average and select the starting time to achieve that\n",
    "    min_avg = float('inf')\n",
    "    for k in avgs:\n",
    "        if min_avg > k[2]:\n",
    "            min_avg = k[2]\n",
    "\n",
    "    return min_avg"
   ]
  },
  {
   "cell_type": "code",
   "execution_count": 18,
   "metadata": {},
   "outputs": [
    {
     "data": {
      "text/plain": [
       "8928"
      ]
     },
     "execution_count": 18,
     "metadata": {},
     "output_type": "execute_result"
    }
   ],
   "source": [
    "len(df_kulutus)"
   ]
  },
  {
   "cell_type": "code",
   "execution_count": 40,
   "metadata": {},
   "outputs": [
    {
     "data": {
      "text/html": [
       "<div>\n",
       "<style scoped>\n",
       "    .dataframe tbody tr th:only-of-type {\n",
       "        vertical-align: middle;\n",
       "    }\n",
       "\n",
       "    .dataframe tbody tr th {\n",
       "        vertical-align: top;\n",
       "    }\n",
       "\n",
       "    .dataframe thead th {\n",
       "        text-align: right;\n",
       "    }\n",
       "</style>\n",
       "<table border=\"1\" class=\"dataframe\">\n",
       "  <thead>\n",
       "    <tr style=\"text-align: right;\">\n",
       "      <th></th>\n",
       "      <th>Alkuaika UTC+02:00</th>\n",
       "      <th>Lopetusaika UTC+02:00</th>\n",
       "      <th>Kulutusennuste - seuraava vuorokausi</th>\n",
       "    </tr>\n",
       "  </thead>\n",
       "  <tbody>\n",
       "    <tr>\n",
       "      <th>0</th>\n",
       "      <td>2021-01-01 00:00:00</td>\n",
       "      <td>2021-01-01 00:05:00</td>\n",
       "      <td>9743.621</td>\n",
       "    </tr>\n",
       "    <tr>\n",
       "      <th>1</th>\n",
       "      <td>2021-01-01 00:05:00</td>\n",
       "      <td>2021-01-01 00:10:00</td>\n",
       "      <td>9743.621</td>\n",
       "    </tr>\n",
       "    <tr>\n",
       "      <th>2</th>\n",
       "      <td>2021-01-01 00:10:00</td>\n",
       "      <td>2021-01-01 00:15:00</td>\n",
       "      <td>9743.621</td>\n",
       "    </tr>\n",
       "    <tr>\n",
       "      <th>3</th>\n",
       "      <td>2021-01-01 00:15:00</td>\n",
       "      <td>2021-01-01 00:20:00</td>\n",
       "      <td>9743.621</td>\n",
       "    </tr>\n",
       "    <tr>\n",
       "      <th>4</th>\n",
       "      <td>2021-01-01 00:20:00</td>\n",
       "      <td>2021-01-01 00:25:00</td>\n",
       "      <td>9743.621</td>\n",
       "    </tr>\n",
       "  </tbody>\n",
       "</table>\n",
       "</div>"
      ],
      "text/plain": [
       "   Alkuaika UTC+02:00 Lopetusaika UTC+02:00  \\\n",
       "0 2021-01-01 00:00:00   2021-01-01 00:05:00   \n",
       "1 2021-01-01 00:05:00   2021-01-01 00:10:00   \n",
       "2 2021-01-01 00:10:00   2021-01-01 00:15:00   \n",
       "3 2021-01-01 00:15:00   2021-01-01 00:20:00   \n",
       "4 2021-01-01 00:20:00   2021-01-01 00:25:00   \n",
       "\n",
       "   Kulutusennuste - seuraava vuorokausi  \n",
       "0                              9743.621  \n",
       "1                              9743.621  \n",
       "2                              9743.621  \n",
       "3                              9743.621  \n",
       "4                              9743.621  "
      ]
     },
     "execution_count": 40,
     "metadata": {},
     "output_type": "execute_result"
    }
   ],
   "source": [
    "# Muutetaan arvot datetime:ksi\n",
    "df_kulutus[\"Alkuaika UTC+02:00\"] = pd.to_datetime(df_kulutus[\"Alkuaika UTC+02:00\"])\n",
    "df_kulutus[\"Lopetusaika UTC+02:00\"] = pd.to_datetime(df_kulutus[\"Lopetusaika UTC+02:00\"])\n",
    "\n",
    "# Nimetään aikaväli\n",
    "start_date = pd.to_datetime(\"2020-12-31 22:00:00\")\n",
    "end_date = pd.to_datetime(\"2021-01-01 05:00:00\")\n",
    "\n",
    "# Rajataan aikavälin mukaan\n",
    "mask = (df_kulutus['Alkuaika UTC+02:00'] > start_date) & (df_kulutus['Lopetusaika UTC+02:00'] <= end_date)\n",
    "df_kulutus_filt = df_kulutus.loc[mask]\n",
    "\n",
    "# Valitaan vain kolme saraketta\n",
    "df_kulutus_filt = df_kulutus_filt[['Alkuaika UTC+02:00', 'Lopetusaika UTC+02:00', 'Kulutusennuste - seuraava vuorokausi']]\n",
    "df_kulutus_filt.head()"
   ]
  },
  {
   "cell_type": "code",
   "execution_count": null,
   "metadata": {},
   "outputs": [],
   "source": [
    "x = df_kulutus_filt.values.tolist()\n",
    "x"
   ]
  },
  {
   "cell_type": "code",
   "execution_count": 66,
   "metadata": {},
   "outputs": [
    {
     "data": {
      "text/plain": [
       "8901.148"
      ]
     },
     "execution_count": 66,
     "metadata": {},
     "output_type": "execute_result"
    }
   ],
   "source": [
    "ChargingTime(120, 5, x)"
   ]
  },
  {
   "cell_type": "code",
   "execution_count": null,
   "metadata": {},
   "outputs": [],
   "source": [
    "plt.rcParams[\"figure.figsize\"] = [7.50, 3.50]\n",
    "plt.rcParams[\"figure.autolayout\"] = True\n",
    "\n",
    "df_kulutus.head()\n",
    "plt.plot(df_kulutus[\"Alkuaika UTC+02:00\"], df_kulutus[\"Kulutusennuste - seuraava vuorokausi\"])\n",
    "plt.show()"
   ]
  }
 ],
 "metadata": {
  "kernelspec": {
   "display_name": "Python 3.9.1 64-bit",
   "language": "python",
   "name": "python3"
  },
  "language_info": {
   "codemirror_mode": {
    "name": "ipython",
    "version": 3
   },
   "file_extension": ".py",
   "mimetype": "text/x-python",
   "name": "python",
   "nbconvert_exporter": "python",
   "pygments_lexer": "ipython3",
   "version": "3.9.1"
  },
  "orig_nbformat": 4,
  "vscode": {
   "interpreter": {
    "hash": "655ead04705df25979b098d70d07560a40ffb3d6c4aa160f4c4d023dee151a17"
   }
  }
 },
 "nbformat": 4,
 "nbformat_minor": 2
}
